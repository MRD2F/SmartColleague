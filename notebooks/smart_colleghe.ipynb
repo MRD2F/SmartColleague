{
 "cells": [
  {
   "cell_type": "code",
   "execution_count": 1,
   "id": "32310202",
   "metadata": {},
   "outputs": [
    {
     "name": "stderr",
     "output_type": "stream",
     "text": [
      "c:\\Users\\MariaRosariaDiDomeni\\VSCodeProjects\\CollegaIntelligente\\notebooks\\.venv\\lib\\site-packages\\tqdm\\auto.py:21: TqdmWarning: IProgress not found. Please update jupyter and ipywidgets. See https://ipywidgets.readthedocs.io/en/stable/user_install.html\n",
      "  from .autonotebook import tqdm as notebook_tqdm\n"
     ]
    }
   ],
   "source": [
    "from smartie import *"
   ]
  },
  {
   "cell_type": "code",
   "execution_count": 2,
   "id": "f067965c",
   "metadata": {},
   "outputs": [],
   "source": [
    "chroma_db_path='../data/chromaDB'\n",
    "cv_collection_name='cv_collection'\n",
    "doc_collection_name='doc_collection'\n",
    "\n",
    "ch_col = ChromaCollection(chroma_db_path, cv_collection_name, doc_collection_name)"
   ]
  },
  {
   "cell_type": "code",
   "execution_count": 3,
   "id": "2d1faf01",
   "metadata": {},
   "outputs": [],
   "source": [
    "instructions_path = '../cofig/genai_instructions.txt'\n",
    "tool_list = [ch_col.get_results, ch_col.find_similarities, ch_col.get_employee_resume, \n",
    "         ch_col.get_matching_documentation, ch_col.list_company_documentation, ch_col.execute_query] \n",
    "genai = GenerateContent(instructions_path, tool_list )"
   ]
  },
  {
   "cell_type": "code",
   "execution_count": 4,
   "id": "c349733c",
   "metadata": {},
   "outputs": [
    {
     "data": {
      "text/markdown": [
       "Based on the information I found, here are a few employees who might be able to assist you. However, the similarity scores are low, indicating that the keywords in their resumes don't directly match your request. I recommend reviewing their profiles to see if their experience aligns with your needs:\n",
       "\n",
       "*   **Employee ID: 145:** The resume mentions skills in thermodynamics, strength of material, manufacturing/production, theory of machine and industrial engineering.\n",
       "*   **Employee ID: 389:** The resume mentions skills in programming Languages like: C , C++ (basics) , Core Java ,(basics) HTML ,PERL.\n",
       "*   **Employee ID: 1306:** The resume mentions skills in AutoCAD, Comfort Point Open (Honeywell), Honeywell Fire Alarm (Model: MORLEY IAS) and Siemens Fire Alarm (Model :BC 8001).\n",
       "\n",
       "If you want, I can pull the full resume for any of these employee IDs, or refine the search with different keywords.\n"
      ],
      "text/plain": [
       "<IPython.core.display.Markdown object>"
      ]
     },
     "metadata": {},
     "output_type": "display_data"
    }
   ],
   "source": [
    "use_rag = False\n",
    "n_results = 5\n",
    "include = [\"documents\", \"metadatas\"]\n",
    "user_query = \"How many employess have skills related to data science and machine learning? Groupby the main skills and the employee ID who match this skills and give me their names, email adress and work experience\" \n",
    "user_query = \"Who can help with a overfitting problem with a LSTM machine learning model?\"\n",
    "#user_query = \"Come prendere ferie? passi\"\n",
    "if use_rag:\n",
    "    colllection_name = cv_collection_name\n",
    "    user_query = ch_col.compute_rag(cv_collection_name, user_query, n_results, include)\n",
    "\n",
    "genai.generate_content(user_query)"
   ]
  },
  {
   "cell_type": "code",
   "execution_count": null,
   "id": "6b416775",
   "metadata": {},
   "outputs": [],
   "source": []
  }
 ],
 "metadata": {
  "kernelspec": {
   "display_name": ".venv",
   "language": "python",
   "name": "python3"
  },
  "language_info": {
   "codemirror_mode": {
    "name": "ipython",
    "version": 3
   },
   "file_extension": ".py",
   "mimetype": "text/x-python",
   "name": "python",
   "nbconvert_exporter": "python",
   "pygments_lexer": "ipython3",
   "version": "3.10.8"
  }
 },
 "nbformat": 4,
 "nbformat_minor": 5
}
